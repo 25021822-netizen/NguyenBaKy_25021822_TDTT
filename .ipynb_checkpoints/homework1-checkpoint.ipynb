{
 "cells": [
  {
   "cell_type": "code",
   "execution_count": 6,
   "id": "2ba09eaf-dc3c-4471-8890-1217cb639295",
   "metadata": {},
   "outputs": [
    {
     "name": "stdin",
     "output_type": "stream",
     "text": [
      "nhap gia tri cua n 3\n"
     ]
    },
    {
     "name": "stdout",
     "output_type": "stream",
     "text": [
      "2n= 6\n"
     ]
    }
   ],
   "source": [
    "#bai1\n",
    "n = int(input('nhap gia tri cua n'))\n",
    "print('2n=', str(2*n))"
   ]
  },
  {
   "cell_type": "code",
   "execution_count": 77,
   "id": "65505495-8f49-4771-86a4-a513a82274ca",
   "metadata": {},
   "outputs": [
    {
     "name": "stdin",
     "output_type": "stream",
     "text": [
      "chieu rong = 4\n",
      "chieu dai = 9\n"
     ]
    },
    {
     "name": "stdout",
     "output_type": "stream",
     "text": [
      "dien tich con lai la: 23.439999999999998\n"
     ]
    }
   ],
   "source": [
    "#bai2\n",
    "a = int(input('chieu rong ='))\n",
    "b = int(input('chieu dai ='))\n",
    "s = a*b\n",
    "d = 3.14*(a/2)**2\n",
    "print('dien tich con lai la:', str(s-d))"
   ]
  },
  {
   "cell_type": "code",
   "execution_count": 11,
   "id": "71989897-4754-40b2-9ac3-eef99f1ca1c1",
   "metadata": {},
   "outputs": [
    {
     "name": "stdin",
     "output_type": "stream",
     "text": [
      "nhap ky tu: V\n"
     ]
    },
    {
     "name": "stdout",
     "output_type": "stream",
     "text": [
      "Ky tu moi la: v\n"
     ]
    }
   ],
   "source": [
    "#bai3\n",
    "c = input('nhap ky tu:')\n",
    "if 'A' <= c <= 'Z':\n",
    "    print('Ky tu moi la:', c.lower())\n",
    "elif 'a' <= c <= 'z':\n",
    "    print('ky tu moi la:', c.upper())\n",
    "else:\n",
    "    print('khong phai chu cai')"
   ]
  },
  {
   "cell_type": "code",
   "execution_count": 12,
   "id": "03076c31-91f5-43dd-8652-216c429e33f5",
   "metadata": {},
   "outputs": [
    {
     "name": "stdin",
     "output_type": "stream",
     "text": [
      "ky tu: a\n"
     ]
    },
    {
     "name": "stdout",
     "output_type": "stream",
     "text": [
      "{c} la ky tu alphabet\n"
     ]
    }
   ],
   "source": [
    "#bai4\n",
    "c = input('ky tu:')\n",
    "if 'A' <= c <= 'Z' or 'a' <= c <= 'z':\n",
    "    print('{c} la ky tu alphabet')\n",
    "else:\n",
    "    print('{c} khong la ky tu alphabet')"
   ]
  },
  {
   "cell_type": "code",
   "execution_count": 95,
   "id": "64725a82-5839-42a1-96fe-907d3f00ad63",
   "metadata": {},
   "outputs": [
    {
     "name": "stdin",
     "output_type": "stream",
     "text": [
      "chu cai can nhap : h\n"
     ]
    },
    {
     "name": "stdout",
     "output_type": "stream",
     "text": [
      "chu cai lien truoc la: g\n"
     ]
    }
   ],
   "source": [
    "#bai5\n",
    "a = input('chu cai can nhap :')\n",
    "if a == 'A':\n",
    "    print('khong xac dinh')\n",
    "elif a.isupper:\n",
    "    b = a.lower()\n",
    "    c = chr(ord(b)-1)\n",
    "    print('chu cai lien truoc la:', c)\n",
    "else:\n",
    "    print('nhap lai chu in hoa')"
   ]
  },
  {
   "cell_type": "code",
   "execution_count": 19,
   "id": "f940e5fd-f948-4e53-becf-ff182cc68cc0",
   "metadata": {},
   "outputs": [
    {
     "name": "stdin",
     "output_type": "stream",
     "text": [
      "chieu dai cac canh: 2 100000 3\n"
     ]
    },
    {
     "name": "stdout",
     "output_type": "stream",
     "text": [
      "khong phai 3 canh cua tam giac\n"
     ]
    }
   ],
   "source": [
    "#bai6\n",
    "a, b, c = map(int, input('chieu dai cac canh:').split())\n",
    "if ((a+b) > c) and ((b+c) > a) and ((c+a) > b) and (a, b, c>0):\n",
    "    p = (a+b+c) * 0.5\n",
    "    s = (p*(p-a)*(p-b)*(p-c))**1/2\n",
    "    print(' dien tich tam giac la:', s)\n",
    "else:\n",
    "    print('khong phai 3 canh cua tam giac')"
   ]
  },
  {
   "cell_type": "code",
   "execution_count": 35,
   "id": "25a6ea38-b009-4b6c-9c38-74d2c5610037",
   "metadata": {},
   "outputs": [
    {
     "name": "stdin",
     "output_type": "stream",
     "text": [
      "Nhap chuoi ky tu: qwertyuiokjhgfdxcvbnjytfcv\n"
     ]
    },
    {
     "name": "stdout",
     "output_type": "stream",
     "text": [
      "chu cai thu 5 t\n",
      "chu cai thu 9 o\n"
     ]
    }
   ],
   "source": [
    "#bai7\n",
    "s = input('Nhap chuoi ky tu:')\n",
    "if len(s)<20:\n",
    "    print('chuoi qua ngan')\n",
    "elif 20 <= len(s):\n",
    "    print('chu cai thu 5', s[4])\n",
    "    print('chu cai thu 9', s[8])\n",
    "\n"
   ]
  },
  {
   "cell_type": "code",
   "execution_count": 30,
   "id": "e3874dfe-0506-455b-94f8-b3675e4778c9",
   "metadata": {},
   "outputs": [
    {
     "name": "stdin",
     "output_type": "stream",
     "text": [
      "Ho va ten: Nguyen Xuan Hai\n",
      "Chi so thang truoc: 2000\n",
      "Chi so thang nay: 2586\n"
     ]
    },
    {
     "name": "stdout",
     "output_type": "stream",
     "text": [
      "tien phai tra 1855505\n"
     ]
    }
   ],
   "source": [
    "#bai 8\n",
    "a = input('Ho va ten:')\n",
    "b = int(input('Chi so thang truoc:'))\n",
    "c = int(input('Chi so thang nay:'))\n",
    "d = c-b\n",
    "if 0 <= d <= 50:\n",
    "    s = (d*1984) * 1.08\n",
    "    print('tien phai tra', round(s))\n",
    "if 51 <= d <= 100:\n",
    "    s = (50*1984 + (d-50)*2050) * 1.08\n",
    "    print('tien phai tra', round(s))\n",
    "if 101 <= d <= 200:\n",
    "    s = (50*1984 + 50*2050 + (d-100)*2380) * 1.08\n",
    "    print('tien phai tra', round(s))\n",
    "if 201 <= d <= 300:\n",
    "    s = (50*1984 + 50*2050 + 100*2380 + (d-200)*2998) * 1.08\n",
    "    print('tien phai tra', round(s))\n",
    "if 301 <= d <= 400:\n",
    "    s = (50*1984 + 50*2050 + 100*2380 + 100*2998 + (d-300)*3350) * 1.08\n",
    "    print('tien phai tra', round(s))\n",
    "elif 401 <= d:\n",
    "    s = (50*1984 + 50*2050 + 100*2380 + 100*2998 + 100*3350 + (d-400)*3460) * 1.08\n",
    "    print('tien phai tra', round(s))\n"
   ]
  },
  {
   "cell_type": "code",
   "execution_count": 39,
   "id": "c130668e-b991-43ff-bb44-55b6776b1aab",
   "metadata": {},
   "outputs": [
    {
     "name": "stdin",
     "output_type": "stream",
     "text": [
      "nhap so: 4\n"
     ]
    },
    {
     "name": "stdout",
     "output_type": "stream",
     "text": [
      "4 la so chan\n"
     ]
    }
   ],
   "source": [
    "a = int(input('nhap so:'))\n",
    "if a%2 == 0:\n",
    "        print(a, 'la so chan')\n",
    "else:\n",
    "    print(a, 'la so le')"
   ]
  },
  {
   "cell_type": "code",
   "execution_count": 45,
   "id": "9af446c7-fd8f-4f42-9700-4640cbbf33f7",
   "metadata": {},
   "outputs": [
    {
     "name": "stdin",
     "output_type": "stream",
     "text": [
      "nhap so: 100\n"
     ]
    },
    {
     "name": "stdout",
     "output_type": "stream",
     "text": [
      "False\n"
     ]
    }
   ],
   "source": [
    "a = int(input('nhap so'))\n",
    "if a % 10 == 5: \n",
    "         print('True')\n",
    "else:\n",
    "    print('False')"
   ]
  },
  {
   "cell_type": "code",
   "execution_count": 73,
   "id": "37ddc3f4-014e-4dda-b09a-b4965ee683c9",
   "metadata": {},
   "outputs": [
    {
     "name": "stdin",
     "output_type": "stream",
     "text": [
      "nhap so 7\n"
     ]
    },
    {
     "name": "stdout",
     "output_type": "stream",
     "text": [
      "False\n"
     ]
    }
   ],
   "source": [
    "a = int(input('nhap so'))\n",
    "if a%3 == 0 and a%5 == 0:\n",
    "    print('True')\n",
    "else: \n",
    "    print('False')"
   ]
  },
  {
   "cell_type": "code",
   "execution_count": 48,
   "id": "6c637e6c-d1e2-4015-a6e3-8682bc8924f1",
   "metadata": {},
   "outputs": [
    {
     "name": "stdin",
     "output_type": "stream",
     "text": [
      "nam sinh: 2007\n"
     ]
    },
    {
     "name": "stdout",
     "output_type": "stream",
     "text": [
      "du tuoi di bau cu\n"
     ]
    }
   ],
   "source": [
    "a = int(input('nam sinh:'))\n",
    "b = 2025 - a\n",
    "if 18 <= b:\n",
    "    print('du tuoi di bau cu')\n",
    "else:\n",
    "    print('khong du tuoi di bau cu')"
   ]
  },
  {
   "cell_type": "code",
   "execution_count": 81,
   "id": "b7b72752-2aed-44cd-85ba-b8f78841c931",
   "metadata": {},
   "outputs": [
    {
     "name": "stdin",
     "output_type": "stream",
     "text": [
      "nhap hai so can so sanh 2 3\n"
     ]
    },
    {
     "name": "stdout",
     "output_type": "stream",
     "text": [
      "so lon hon la: 3\n"
     ]
    }
   ],
   "source": [
    "a, b = map(int, input('nhap hai so can so sanh').split())\n",
    "if a > b:\n",
    "    print('so lon hon la:', a)\n",
    "elif a < b:\n",
    "    print('so lon hon la:', b)\n",
    "else:\n",
    "    print('hai so bang nhau')"
   ]
  },
  {
   "cell_type": "code",
   "execution_count": 65,
   "id": "fcacd54a-04d3-4806-8650-870192bbc24f",
   "metadata": {},
   "outputs": [
    {
     "name": "stdin",
     "output_type": "stream",
     "text": [
      "nhap mot ky tu: 9999\n"
     ]
    },
    {
     "name": "stdout",
     "output_type": "stream",
     "text": [
      "9999 la so\n"
     ]
    }
   ],
   "source": [
    "a = input('nhap mot ky tu:')\n",
    "if a.isalpha():\n",
    "    print(a, 'la chu')\n",
    "elif a.isdigit():\n",
    "    print(a, 'la so')\n",
    "else:\n",
    "    print('khong phai la chu hoac so')"
   ]
  },
  {
   "cell_type": "code",
   "execution_count": 69,
   "id": "24debab0-ece3-4925-96a6-75df2b3f89f6",
   "metadata": {},
   "outputs": [
    {
     "name": "stdin",
     "output_type": "stream",
     "text": [
      "nhap diem: 33\n"
     ]
    },
    {
     "name": "stdout",
     "output_type": "stream",
     "text": [
      "nhap sai diem\n"
     ]
    }
   ],
   "source": [
    "a = int(input('nhap diem:'))\n",
    "if 10>= a >= 8:\n",
    "    print('hoc luc gioi')\n",
    "elif 8 > a >= 6.5:\n",
    "    print('hoc luc kha')\n",
    "elif 6.5 > a >= 5:\n",
    "    print('hoc luc trung binh')\n",
    "elif 5 > a >= 0:\n",
    "    print('hoc luc yeu')\n",
    "else:\n",
    "    print('nhap sai diem')"
   ]
  },
  {
   "cell_type": "code",
   "execution_count": 72,
   "id": "65855ca4-5da6-4d8f-b9df-6dfbe011db80",
   "metadata": {},
   "outputs": [
    {
     "name": "stdin",
     "output_type": "stream",
     "text": [
      "nhap nam: 2025\n"
     ]
    },
    {
     "name": "stdout",
     "output_type": "stream",
     "text": [
      "2025 khong phai nam nhuan\n"
     ]
    }
   ],
   "source": [
    "a = int(input('nhap nam:'))\n",
    "if a % 400 ==0:\n",
    "        print(a, 'la nam nhuan')\n",
    "else:\n",
    "    print(a, 'khong phai nam nhuan')"
   ]
  },
  {
   "cell_type": "code",
   "execution_count": 83,
   "id": "10f4cc80-20fd-4639-8128-04ad3a0ba140",
   "metadata": {},
   "outputs": [
    {
     "name": "stdin",
     "output_type": "stream",
     "text": [
      "nhap so 9\n"
     ]
    },
    {
     "name": "stdout",
     "output_type": "stream",
     "text": [
      "CHIN\n"
     ]
    }
   ],
   "source": [
    "n = int(input('nhap so'))\n",
    "match n:\n",
    "    case 0:\n",
    "        print('KHONG')\n",
    "    case 1:\n",
    "        print('MOT')\n",
    "    case 2:\n",
    "        print('HAI')\n",
    "    case 3:\n",
    "        print('BA')\n",
    "    case 4:\n",
    "        print('BON')\n",
    "    case 5:\n",
    "        print('NAM')\n",
    "    case 6:\n",
    "        print('SAU')\n",
    "    case 7:\n",
    "        print('BAY')\n",
    "    case 8:\n",
    "        print('TAM')\n",
    "    case 9:\n",
    "        print('CHIN')\n",
    "    case _:\n",
    "        print('NHAP SAI')"
   ]
  },
  {
   "cell_type": "code",
   "execution_count": 88,
   "id": "36096b96-28b6-4ce2-9396-1f0b25f94873",
   "metadata": {},
   "outputs": [
    {
     "name": "stdin",
     "output_type": "stream",
     "text": [
      "nhap diem 3\n"
     ]
    },
    {
     "name": "stdout",
     "output_type": "stream",
     "text": [
      "hoc lai\n"
     ]
    }
   ],
   "source": [
    "d = int(input('nhap diem'))\n",
    "if 0 <= d <= 4:\n",
    "    print('hoc lai')\n",
    "elif 4 < d <= 10:\n",
    "    print('qua mon')\n",
    "else:\n",
    "    print('nhap sai diem')"
   ]
  },
  {
   "cell_type": "code",
   "execution_count": 90,
   "id": "cf9ac714-c691-4048-a01d-b1ad6c7435cd",
   "metadata": {},
   "outputs": [
    {
     "name": "stdin",
     "output_type": "stream",
     "text": [
      "nam sinh la 2024\n"
     ]
    },
    {
     "name": "stdout",
     "output_type": "stream",
     "text": [
      "tuoi: 1\n",
      "chua du tuoi\n"
     ]
    }
   ],
   "source": [
    "n = int(input('nam sinh la'))\n",
    "t = 2025-n\n",
    "print('tuoi:', t)\n",
    "if t >= 18:\n",
    "    print('du tuoi')\n",
    "else:\n",
    "    print('chua du tuoi')\n",
    "        "
   ]
  },
  {
   "cell_type": "code",
   "execution_count": null,
   "id": "9ffd179d-3de2-4235-9caf-ae3ae475a41d",
   "metadata": {},
   "outputs": [],
   "source": []
  }
 ],
 "metadata": {
  "kernelspec": {
   "display_name": "Python 3 (ipykernel)",
   "language": "python",
   "name": "python3"
  },
  "language_info": {
   "codemirror_mode": {
    "name": "ipython",
    "version": 3
   },
   "file_extension": ".py",
   "mimetype": "text/x-python",
   "name": "python",
   "nbconvert_exporter": "python",
   "pygments_lexer": "ipython3",
   "version": "3.13.7"
  }
 },
 "nbformat": 4,
 "nbformat_minor": 5
}
