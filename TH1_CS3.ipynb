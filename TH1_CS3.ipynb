{
 "cells": [
  {
   "cell_type": "code",
   "execution_count": 1,
   "id": "593188bd-2432-4e9b-b16d-e81bc6812bec",
   "metadata": {},
   "outputs": [
    {
     "name": "stdout",
     "output_type": "stream",
     "text": [
      "2\n"
     ]
    }
   ],
   "source": [
    "#1W1\n",
    "a = 7 #tao mot bien ten la a gan cho no gia tri bang 7\n",
    "b = 5 # tuong tu a\n",
    "c = a-b # lay gia tri cua a tru gia tri cua b roi gan kết qua cho c\n",
    "print(c) #in gia tri cua c ra "
   ]
  },
  {
   "cell_type": "code",
   "execution_count": 5,
   "id": "f613dcc8-c57e-4a30-bf0a-8ca9ec9034a5",
   "metadata": {},
   "outputs": [
    {
     "name": "stdout",
     "output_type": "stream",
     "text": [
      "Thanh Pho Ha Noi - Nam 2025\n"
     ]
    }
   ],
   "source": [
    "#1W2\n",
    "city = \"Ha Noi\" #tao mot bien ten la city và gan chuoi ky tu cho no la 'Ha Noi'\n",
    "year = 2025 #tao mot bien ten year va gan cho no mot gia tri nguyen là 2025\n",
    "print(\"Thanh Pho\", city, \"- Nam\",year) #ham print dung de in ra man hinh, giua cac gia tri ngan cach boi dau ',' nen khi in ra se co khoang tran"
   ]
  },
  {
   "cell_type": "code",
   "execution_count": 8,
   "id": "63db55df-f472-4957-bccc-536f2f4bc391",
   "metadata": {},
   "outputs": [
    {
     "name": "stdout",
     "output_type": "stream",
     "text": [
      "10\n"
     ]
    }
   ],
   "source": [
    "#1W3\n",
    "n = 4 \n",
    "t = 0 #luu tong cac so trong qua trinh lap\n",
    "for i in range(1, n+1): #vong lap for de chay cac gia tri cua i, range(1, n+1) dung de tao ra day so tu 1 den n, moi lan lap bien i se lay mot gt\n",
    "    t += i\n",
    "print(t)"
   ]
  },
  {
   "cell_type": "code",
   "execution_count": 16,
   "id": "5633128e-b8a1-4e85-bf7e-666b717b674e",
   "metadata": {},
   "outputs": [
    {
     "name": "stdout",
     "output_type": "stream",
     "text": [
      "1 so le\n",
      "2 so chan\n",
      "3 so le\n",
      "4 so chan\n"
     ]
    }
   ],
   "source": [
    "#1W4\n",
    "numbers = (1, 2, 3, 4)   # tạo một Tuple tên là numbers, tuple dùng để lưu nhieuef giá trị trong 1  biến\n",
    "for x in numbers:        # vòng lặp lấy từng phần tử trong numbers\n",
    "    if x % 2 == 0:       # kiểm tra số chia hết cho 2 ; nếu chia hết cho 2 thì in ra là x số chẵn\n",
    "        print(x, \"so chan\")\n",
    "    else:                # nếu điều kiện sai thi in ra la số ler\n",
    "        print(x, \"so le\")"
   ]
  },
  {
   "cell_type": "code",
   "execution_count": 22,
   "id": "01c34111-cb80-4944-af15-6495ac8c71e4",
   "metadata": {},
   "outputs": [
    {
     "name": "stdout",
     "output_type": "stream",
     "text": [
      "so phan tu trong danh sach la: 4\n"
     ]
    }
   ],
   "source": [
    "#1W5\n",
    "animals = ('cat' , 'dog' , 'cat' , 'bird') #tạo ra một tuple tên numbels có 4 giá trị và cho phép trùng lặp\n",
    "count = 0 #tạo biến đếm là count và gán cho giá trị ban đầu là 0\n",
    "for a in animals: # vòng lặp for sẽ duyệt từng phần tử trong tuple\n",
    "    count +=1 # với mỗi lần lặp, tăng biến count thêm 1\n",
    "print('so phan tu trong danh sach la:', count)"
   ]
  },
  {
   "cell_type": "code",
   "execution_count": 26,
   "id": "8af1dd49-ce42-4158-8134-480bf774f365",
   "metadata": {},
   "outputs": [
    {
     "data": {
      "text/plain": [
       "'Pleasse choose an option:2'"
      ]
     },
     "execution_count": 26,
     "metadata": {},
     "output_type": "execute_result"
    }
   ],
   "source": [
    "#1W6\n",
    "'=== AI Prediction System ==='\n",
    "'1) Sentiment analysis'\n",
    "'2) Weather forecast'\n",
    "'3) Exit'\n",
    "'Pleasse choose an option:2'"
   ]
  },
  {
   "cell_type": "code",
   "execution_count": 34,
   "id": "9409b6ca-dbc6-4450-abab-d46fb123b1d2",
   "metadata": {},
   "outputs": [
    {
     "name": "stdin",
     "output_type": "stream",
     "text": [
      "nhap so 6\n"
     ]
    },
    {
     "name": "stdout",
     "output_type": "stream",
     "text": [
      "so chan\n"
     ]
    }
   ],
   "source": [
    "#1W7\n",
    "num = int(input('nhap so'))\n",
    "if num % 2 == 0:\n",
    "    print('so chan')\n",
    "else:\n",
    "    print('so le')"
   ]
  },
  {
   "cell_type": "code",
   "execution_count": 40,
   "id": "8c92dbcf-e96c-4a52-afa2-14a83a63e631",
   "metadata": {},
   "outputs": [
    {
     "name": "stdout",
     "output_type": "stream",
     "text": [
      "AI dang hoc lan 1\n",
      "huan luyen xong!\n",
      "AI dang hoc lan 2\n",
      "huan luyen xong!\n",
      "AI dang hoc lan 3\n",
      "huan luyen xong!\n"
     ]
    }
   ],
   "source": [
    "#1W8\n",
    "for i in range(3): #tao ra day so 0 1 2, nghia là vong chay lap 3 lan\n",
    "    print(\"AI dang hoc lan\", i + 1) #in '...' sau mỗi lần lặp lại\n",
    "    print('huan luyen xong!')"
   ]
  },
  {
   "cell_type": "code",
   "execution_count": 43,
   "id": "3f45f727-b8ce-40af-89b8-fb29c37620e3",
   "metadata": {},
   "outputs": [
    {
     "name": "stdout",
     "output_type": "stream",
     "text": [
      "Du doan con vat: cat\n",
      "Du doan con vat: dog\n",
      "Du doan con vat: fish\n"
     ]
    }
   ],
   "source": [
    "#1W9\n",
    "for x in (\"cat\" , \"dog\" , \"fish\"): #vong lap x se nhan tung gia tri trong tuple\n",
    "    print(\"Du doan con vat:\", x )"
   ]
  },
  {
   "cell_type": "code",
   "execution_count": 44,
   "id": "13775a2e-9e2a-43e3-8854-045260cfb3e0",
   "metadata": {},
   "outputs": [
    {
     "name": "stdout",
     "output_type": "stream",
     "text": [
      "=== AI Predicition System===\n",
      "1)Sentiment analysis\n",
      "2)Weather forecast\n",
      "3)Exit\n",
      "please choose an option\n"
     ]
    }
   ],
   "source": [
    "#1W10\n",
    "#sinple menu\n",
    "print(\"=== AI Predicition System===\")\n",
    "print(\"1)Sentiment analysis\")\n",
    "print(\"2)Weather forecast\")\n",
    "print(\"3)Exit\")\n",
    "print(\"please choose an option\")"
   ]
  }
 ],
 "metadata": {
  "kernelspec": {
   "display_name": "Python 3 (ipykernel)",
   "language": "python",
   "name": "python3"
  },
  "language_info": {
   "codemirror_mode": {
    "name": "ipython",
    "version": 3
   },
   "file_extension": ".py",
   "mimetype": "text/x-python",
   "name": "python",
   "nbconvert_exporter": "python",
   "pygments_lexer": "ipython3",
   "version": "3.13.7"
  }
 },
 "nbformat": 4,
 "nbformat_minor": 5
}
